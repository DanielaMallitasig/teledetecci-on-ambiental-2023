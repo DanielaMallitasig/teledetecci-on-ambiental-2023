{
 "cells": [
  {
   "cell_type": "markdown",
   "id": "a8c25643-2f6b-49f0-834e-954a92c33c55",
   "metadata": {},
   "source": [
    "# Análisis exploratorio"
   ]
  },
  {
   "cell_type": "code",
   "execution_count": 1,
   "id": "043c79f6-acad-40f4-9669-ca43246a1b90",
   "metadata": {
    "tags": []
   },
   "outputs": [],
   "source": [
    "import pandas as pd\n",
    "import matplotlib.pyplot as plt\n",
    "\n",
    "import seaborn as sns\n",
    "import scipy.stats as stats"
   ]
  },
  {
   "cell_type": "code",
   "execution_count": 2,
   "id": "a545e4ad-3505-4864-9aed-f88ec8517037",
   "metadata": {
    "tags": []
   },
   "outputs": [],
   "source": [
    "df = pd.read_csv(\"puntos_muestreo_fake.csv\")"
   ]
  },
  {
   "cell_type": "code",
   "execution_count": 3,
   "id": "78d524a6-4fb0-416f-8698-5e97690f551b",
   "metadata": {
    "tags": []
   },
   "outputs": [
    {
     "data": {
      "text/html": [
       "<div>\n",
       "<style scoped>\n",
       "    .dataframe tbody tr th:only-of-type {\n",
       "        vertical-align: middle;\n",
       "    }\n",
       "\n",
       "    .dataframe tbody tr th {\n",
       "        vertical-align: top;\n",
       "    }\n",
       "\n",
       "    .dataframe thead th {\n",
       "        text-align: right;\n",
       "    }\n",
       "</style>\n",
       "<table border=\"1\" class=\"dataframe\">\n",
       "  <thead>\n",
       "    <tr style=\"text-align: right;\">\n",
       "      <th></th>\n",
       "      <th>id</th>\n",
       "      <th>index_right</th>\n",
       "      <th>USO_TIERRA</th>\n",
       "      <th>USO</th>\n",
       "      <th>SUBUSO</th>\n",
       "      <th>ESTRUCTURA</th>\n",
       "      <th>COBERTURA</th>\n",
       "      <th>ALTURA</th>\n",
       "      <th>TIPO_FORES</th>\n",
       "      <th>SUBTIPOFOR</th>\n",
       "      <th>...</th>\n",
       "      <th>cummulative_greenness</th>\n",
       "      <th>eft</th>\n",
       "      <th>minimum_greenness</th>\n",
       "      <th>season_length</th>\n",
       "      <th>seasonal_variation</th>\n",
       "      <th>elevation</th>\n",
       "      <th>slope</th>\n",
       "      <th>aspect</th>\n",
       "      <th>ndvi_l8</th>\n",
       "      <th>ndvi_s2</th>\n",
       "    </tr>\n",
       "  </thead>\n",
       "  <tbody>\n",
       "    <tr>\n",
       "      <th>0</th>\n",
       "      <td>326</td>\n",
       "      <td>83</td>\n",
       "      <td>BOSQUE NATIVO RENOVAL DENSO</td>\n",
       "      <td>BOSQUE</td>\n",
       "      <td>NATIVO</td>\n",
       "      <td>RENOVAL</td>\n",
       "      <td>DENSO</td>\n",
       "      <td>2 - 4</td>\n",
       "      <td>ESCLEROFILO</td>\n",
       "      <td>PEUMO QUILLAY LITRE</td>\n",
       "      <td>...</td>\n",
       "      <td>2.473292</td>\n",
       "      <td>4.0</td>\n",
       "      <td>0.201404</td>\n",
       "      <td>64.0</td>\n",
       "      <td>0.067362</td>\n",
       "      <td>1478.424194</td>\n",
       "      <td>5.404997</td>\n",
       "      <td>281.401978</td>\n",
       "      <td>0.460007</td>\n",
       "      <td>0.477864</td>\n",
       "    </tr>\n",
       "    <tr>\n",
       "      <th>1</th>\n",
       "      <td>294</td>\n",
       "      <td>207</td>\n",
       "      <td>ESTEPA ANDINA CENTRAL</td>\n",
       "      <td>PRADERAS Y MATORRALES</td>\n",
       "      <td>PRADERAS</td>\n",
       "      <td>ESTEPA ANDINA CENTRAL</td>\n",
       "      <td>NO APLICA</td>\n",
       "      <td>NO APLICA</td>\n",
       "      <td>NO APLICA</td>\n",
       "      <td>NO APLICA</td>\n",
       "      <td>...</td>\n",
       "      <td>1.579932</td>\n",
       "      <td>2.0</td>\n",
       "      <td>-0.000664</td>\n",
       "      <td>120.0</td>\n",
       "      <td>0.126237</td>\n",
       "      <td>2018.506714</td>\n",
       "      <td>26.281919</td>\n",
       "      <td>294.844177</td>\n",
       "      <td>0.242522</td>\n",
       "      <td>0.217458</td>\n",
       "    </tr>\n",
       "    <tr>\n",
       "      <th>2</th>\n",
       "      <td>677</td>\n",
       "      <td>205</td>\n",
       "      <td>MATORRAL ARBORESCENTE MUY ABIERTO</td>\n",
       "      <td>PRADERAS Y MATORRALES</td>\n",
       "      <td>MATORRAL ARBORESCENTE</td>\n",
       "      <td>NO APLICA</td>\n",
       "      <td>MUY ABIERTO</td>\n",
       "      <td>NO APLICA</td>\n",
       "      <td>NO APLICA</td>\n",
       "      <td>NO APLICA</td>\n",
       "      <td>...</td>\n",
       "      <td>NaN</td>\n",
       "      <td>NaN</td>\n",
       "      <td>NaN</td>\n",
       "      <td>NaN</td>\n",
       "      <td>NaN</td>\n",
       "      <td>2334.262451</td>\n",
       "      <td>34.002857</td>\n",
       "      <td>351.091125</td>\n",
       "      <td>0.220055</td>\n",
       "      <td>0.193798</td>\n",
       "    </tr>\n",
       "    <tr>\n",
       "      <th>3</th>\n",
       "      <td>512</td>\n",
       "      <td>215</td>\n",
       "      <td>BOSQUE NATIVO RENOVAL MUY ABIERTO</td>\n",
       "      <td>BOSQUE</td>\n",
       "      <td>NATIVO</td>\n",
       "      <td>RENOVAL</td>\n",
       "      <td>MUY ABIERTO</td>\n",
       "      <td>2 - 4</td>\n",
       "      <td>ESCLEROFILO</td>\n",
       "      <td>PEUMO QUILLAY LITRE</td>\n",
       "      <td>...</td>\n",
       "      <td>2.268631</td>\n",
       "      <td>4.0</td>\n",
       "      <td>0.151841</td>\n",
       "      <td>80.0</td>\n",
       "      <td>0.068544</td>\n",
       "      <td>1398.141235</td>\n",
       "      <td>25.082346</td>\n",
       "      <td>328.001862</td>\n",
       "      <td>0.321700</td>\n",
       "      <td>0.252781</td>\n",
       "    </tr>\n",
       "    <tr>\n",
       "      <th>4</th>\n",
       "      <td>1019</td>\n",
       "      <td>203</td>\n",
       "      <td>AFLORAMIENTOS ROCOSOS</td>\n",
       "      <td>AREAS DESPROVISTAS DE VEGETACION</td>\n",
       "      <td>AFLORAMIENTOS ROCOSOS</td>\n",
       "      <td>NO APLICA</td>\n",
       "      <td>NO APLICA</td>\n",
       "      <td>NO APLICA</td>\n",
       "      <td>NO APLICA</td>\n",
       "      <td>NO APLICA</td>\n",
       "      <td>...</td>\n",
       "      <td>NaN</td>\n",
       "      <td>NaN</td>\n",
       "      <td>NaN</td>\n",
       "      <td>NaN</td>\n",
       "      <td>NaN</td>\n",
       "      <td>2717.321777</td>\n",
       "      <td>37.424358</td>\n",
       "      <td>249.630508</td>\n",
       "      <td>0.093971</td>\n",
       "      <td>0.035170</td>\n",
       "    </tr>\n",
       "  </tbody>\n",
       "</table>\n",
       "<p>5 rows × 34 columns</p>\n",
       "</div>"
      ],
      "text/plain": [
       "     id  index_right                         USO_TIERRA  \\\n",
       "0   326           83        BOSQUE NATIVO RENOVAL DENSO   \n",
       "1   294          207              ESTEPA ANDINA CENTRAL   \n",
       "2   677          205  MATORRAL ARBORESCENTE MUY ABIERTO   \n",
       "3   512          215  BOSQUE NATIVO RENOVAL MUY ABIERTO   \n",
       "4  1019          203              AFLORAMIENTOS ROCOSOS   \n",
       "\n",
       "                                USO                 SUBUSO  \\\n",
       "0                            BOSQUE                 NATIVO   \n",
       "1             PRADERAS Y MATORRALES               PRADERAS   \n",
       "2             PRADERAS Y MATORRALES  MATORRAL ARBORESCENTE   \n",
       "3                            BOSQUE                 NATIVO   \n",
       "4  AREAS DESPROVISTAS DE VEGETACION  AFLORAMIENTOS ROCOSOS   \n",
       "\n",
       "              ESTRUCTURA    COBERTURA     ALTURA   TIPO_FORES  \\\n",
       "0                RENOVAL        DENSO      2 - 4  ESCLEROFILO   \n",
       "1  ESTEPA ANDINA CENTRAL    NO APLICA  NO APLICA    NO APLICA   \n",
       "2              NO APLICA  MUY ABIERTO  NO APLICA    NO APLICA   \n",
       "3                RENOVAL  MUY ABIERTO      2 - 4  ESCLEROFILO   \n",
       "4              NO APLICA    NO APLICA  NO APLICA    NO APLICA   \n",
       "\n",
       "            SUBTIPOFOR  ... cummulative_greenness  eft minimum_greenness  \\\n",
       "0  PEUMO QUILLAY LITRE  ...              2.473292  4.0          0.201404   \n",
       "1            NO APLICA  ...              1.579932  2.0         -0.000664   \n",
       "2            NO APLICA  ...                   NaN  NaN               NaN   \n",
       "3  PEUMO QUILLAY LITRE  ...              2.268631  4.0          0.151841   \n",
       "4            NO APLICA  ...                   NaN  NaN               NaN   \n",
       "\n",
       "  season_length seasonal_variation    elevation      slope      aspect  \\\n",
       "0          64.0           0.067362  1478.424194   5.404997  281.401978   \n",
       "1         120.0           0.126237  2018.506714  26.281919  294.844177   \n",
       "2           NaN                NaN  2334.262451  34.002857  351.091125   \n",
       "3          80.0           0.068544  1398.141235  25.082346  328.001862   \n",
       "4           NaN                NaN  2717.321777  37.424358  249.630508   \n",
       "\n",
       "    ndvi_l8   ndvi_s2  \n",
       "0  0.460007  0.477864  \n",
       "1  0.242522  0.217458  \n",
       "2  0.220055  0.193798  \n",
       "3  0.321700  0.252781  \n",
       "4  0.093971  0.035170  \n",
       "\n",
       "[5 rows x 34 columns]"
      ]
     },
     "execution_count": 3,
     "metadata": {},
     "output_type": "execute_result"
    }
   ],
   "source": [
    "df.head()"
   ]
  },
  {
   "cell_type": "markdown",
   "id": "3bddd33f-9b41-48c1-90f0-54b62606eefe",
   "metadata": {},
   "source": [
    "## Subset de datos\n",
    "\n",
    "Primero, mirar qué valores únicos hay disponibles:"
   ]
  },
  {
   "cell_type": "code",
   "execution_count": 4,
   "id": "9faa5f7c-4b1b-4a8e-9922-1f55a529a527",
   "metadata": {
    "tags": []
   },
   "outputs": [
    {
     "data": {
      "text/plain": [
       "0                               BOSQUE\n",
       "1                PRADERAS Y MATORRALES\n",
       "4     AREAS DESPROVISTAS DE VEGETACION\n",
       "17                           HUMEDALES\n",
       "Name: USO, dtype: object"
      ]
     },
     "execution_count": 4,
     "metadata": {},
     "output_type": "execute_result"
    }
   ],
   "source": [
    "df.USO.drop_duplicates()"
   ]
  },
  {
   "cell_type": "markdown",
   "id": "9f3da676-fd0c-441d-b83a-a28f2b184510",
   "metadata": {},
   "source": [
    "Seleccionar los valores únicos que quiero y guardarlo en un dataframe nuevo llamado `df2`"
   ]
  },
  {
   "cell_type": "code",
   "execution_count": 5,
   "id": "0e73307a-8061-4973-93c7-dd26e7becb2c",
   "metadata": {
    "tags": []
   },
   "outputs": [],
   "source": [
    "df2 = df.loc[df['USO'].isin([\"BOSQUE\", \"HUMEDALES\"])]"
   ]
  },
  {
   "cell_type": "markdown",
   "id": "ffd952e7-028a-4514-9345-32ed786934a8",
   "metadata": {},
   "source": [
    "Revisando que esté todo bien seleccionado:"
   ]
  },
  {
   "cell_type": "code",
   "execution_count": 6,
   "id": "d8dafe5a-6175-4b15-8081-8fbed540f337",
   "metadata": {},
   "outputs": [
    {
     "data": {
      "text/plain": [
       "0        BOSQUE\n",
       "17    HUMEDALES\n",
       "Name: USO, dtype: object"
      ]
     },
     "execution_count": 6,
     "metadata": {},
     "output_type": "execute_result"
    }
   ],
   "source": [
    "df2.USO.drop_duplicates()"
   ]
  },
  {
   "cell_type": "markdown",
   "id": "0c9b15b4-7333-4d0e-b901-7bdab8cb76ed",
   "metadata": {},
   "source": [
    "Si quieren usar esta selección, recuerden cambiar las siguientes líneas que tengan `df`, por `df2`."
   ]
  },
  {
   "cell_type": "markdown",
   "id": "c35c883f-986d-487f-b814-7148e85b9dd9",
   "metadata": {
    "tags": []
   },
   "source": [
    "## Estadísticas básicas sobre campos numéricos"
   ]
  },
  {
   "cell_type": "code",
   "execution_count": 7,
   "id": "351c8f16-e2e4-489b-a3cf-bc777067b2af",
   "metadata": {
    "tags": []
   },
   "outputs": [
    {
     "data": {
      "text/html": [
       "<div>\n",
       "<style scoped>\n",
       "    .dataframe tbody tr th:only-of-type {\n",
       "        vertical-align: middle;\n",
       "    }\n",
       "\n",
       "    .dataframe tbody tr th {\n",
       "        vertical-align: top;\n",
       "    }\n",
       "\n",
       "    .dataframe thead th {\n",
       "        text-align: right;\n",
       "    }\n",
       "</style>\n",
       "<table border=\"1\" class=\"dataframe\">\n",
       "  <thead>\n",
       "    <tr style=\"text-align: right;\">\n",
       "      <th></th>\n",
       "      <th>id</th>\n",
       "      <th>index_right</th>\n",
       "      <th>cummulative_greenness</th>\n",
       "      <th>eft</th>\n",
       "      <th>minimum_greenness</th>\n",
       "      <th>season_length</th>\n",
       "      <th>seasonal_variation</th>\n",
       "      <th>elevation</th>\n",
       "      <th>slope</th>\n",
       "      <th>aspect</th>\n",
       "      <th>ndvi_l8</th>\n",
       "      <th>ndvi_s2</th>\n",
       "    </tr>\n",
       "  </thead>\n",
       "  <tbody>\n",
       "    <tr>\n",
       "      <th>count</th>\n",
       "      <td>120.000000</td>\n",
       "      <td>120.000000</td>\n",
       "      <td>73.000000</td>\n",
       "      <td>72.000000</td>\n",
       "      <td>73.000000</td>\n",
       "      <td>73.000000</td>\n",
       "      <td>73.000000</td>\n",
       "      <td>120.000000</td>\n",
       "      <td>120.000000</td>\n",
       "      <td>120.000000</td>\n",
       "      <td>120.000000</td>\n",
       "      <td>120.000000</td>\n",
       "    </tr>\n",
       "    <tr>\n",
       "      <th>mean</th>\n",
       "      <td>556.725000</td>\n",
       "      <td>164.275000</td>\n",
       "      <td>2.269953</td>\n",
       "      <td>2.208333</td>\n",
       "      <td>0.111934</td>\n",
       "      <td>88.657534</td>\n",
       "      <td>0.091304</td>\n",
       "      <td>1961.265918</td>\n",
       "      <td>28.412164</td>\n",
       "      <td>222.904105</td>\n",
       "      <td>0.247082</td>\n",
       "      <td>0.221477</td>\n",
       "    </tr>\n",
       "    <tr>\n",
       "      <th>std</th>\n",
       "      <td>291.230076</td>\n",
       "      <td>62.197836</td>\n",
       "      <td>0.468705</td>\n",
       "      <td>1.423520</td>\n",
       "      <td>0.057315</td>\n",
       "      <td>21.817564</td>\n",
       "      <td>0.040244</td>\n",
       "      <td>514.999753</td>\n",
       "      <td>9.056548</td>\n",
       "      <td>104.741083</td>\n",
       "      <td>0.108951</td>\n",
       "      <td>0.121098</td>\n",
       "    </tr>\n",
       "    <tr>\n",
       "      <th>min</th>\n",
       "      <td>61.000000</td>\n",
       "      <td>4.000000</td>\n",
       "      <td>1.186463</td>\n",
       "      <td>1.000000</td>\n",
       "      <td>-0.066100</td>\n",
       "      <td>48.000000</td>\n",
       "      <td>0.021921</td>\n",
       "      <td>909.734985</td>\n",
       "      <td>4.162750</td>\n",
       "      <td>6.063538</td>\n",
       "      <td>0.058717</td>\n",
       "      <td>0.020501</td>\n",
       "    </tr>\n",
       "    <tr>\n",
       "      <th>25%</th>\n",
       "      <td>319.500000</td>\n",
       "      <td>117.750000</td>\n",
       "      <td>1.953835</td>\n",
       "      <td>1.000000</td>\n",
       "      <td>0.073158</td>\n",
       "      <td>72.000000</td>\n",
       "      <td>0.061750</td>\n",
       "      <td>1566.724304</td>\n",
       "      <td>22.913270</td>\n",
       "      <td>183.231133</td>\n",
       "      <td>0.146201</td>\n",
       "      <td>0.112082</td>\n",
       "    </tr>\n",
       "    <tr>\n",
       "      <th>50%</th>\n",
       "      <td>514.500000</td>\n",
       "      <td>203.000000</td>\n",
       "      <td>2.348799</td>\n",
       "      <td>1.000000</td>\n",
       "      <td>0.119805</td>\n",
       "      <td>88.000000</td>\n",
       "      <td>0.087718</td>\n",
       "      <td>1897.999146</td>\n",
       "      <td>29.796582</td>\n",
       "      <td>248.903023</td>\n",
       "      <td>0.264212</td>\n",
       "      <td>0.221358</td>\n",
       "    </tr>\n",
       "    <tr>\n",
       "      <th>75%</th>\n",
       "      <td>777.000000</td>\n",
       "      <td>205.000000</td>\n",
       "      <td>2.583239</td>\n",
       "      <td>4.000000</td>\n",
       "      <td>0.161764</td>\n",
       "      <td>96.000000</td>\n",
       "      <td>0.114713</td>\n",
       "      <td>2401.176147</td>\n",
       "      <td>34.900392</td>\n",
       "      <td>303.042694</td>\n",
       "      <td>0.325876</td>\n",
       "      <td>0.297361</td>\n",
       "    </tr>\n",
       "    <tr>\n",
       "      <th>max</th>\n",
       "      <td>1172.000000</td>\n",
       "      <td>221.000000</td>\n",
       "      <td>3.272917</td>\n",
       "      <td>5.000000</td>\n",
       "      <td>0.201404</td>\n",
       "      <td>160.000000</td>\n",
       "      <td>0.205738</td>\n",
       "      <td>3086.757080</td>\n",
       "      <td>49.217510</td>\n",
       "      <td>358.524384</td>\n",
       "      <td>0.471268</td>\n",
       "      <td>0.482517</td>\n",
       "    </tr>\n",
       "  </tbody>\n",
       "</table>\n",
       "</div>"
      ],
      "text/plain": [
       "                id  index_right  cummulative_greenness        eft  \\\n",
       "count   120.000000   120.000000              73.000000  72.000000   \n",
       "mean    556.725000   164.275000               2.269953   2.208333   \n",
       "std     291.230076    62.197836               0.468705   1.423520   \n",
       "min      61.000000     4.000000               1.186463   1.000000   \n",
       "25%     319.500000   117.750000               1.953835   1.000000   \n",
       "50%     514.500000   203.000000               2.348799   1.000000   \n",
       "75%     777.000000   205.000000               2.583239   4.000000   \n",
       "max    1172.000000   221.000000               3.272917   5.000000   \n",
       "\n",
       "       minimum_greenness  season_length  seasonal_variation    elevation  \\\n",
       "count          73.000000      73.000000           73.000000   120.000000   \n",
       "mean            0.111934      88.657534            0.091304  1961.265918   \n",
       "std             0.057315      21.817564            0.040244   514.999753   \n",
       "min            -0.066100      48.000000            0.021921   909.734985   \n",
       "25%             0.073158      72.000000            0.061750  1566.724304   \n",
       "50%             0.119805      88.000000            0.087718  1897.999146   \n",
       "75%             0.161764      96.000000            0.114713  2401.176147   \n",
       "max             0.201404     160.000000            0.205738  3086.757080   \n",
       "\n",
       "            slope      aspect     ndvi_l8     ndvi_s2  \n",
       "count  120.000000  120.000000  120.000000  120.000000  \n",
       "mean    28.412164  222.904105    0.247082    0.221477  \n",
       "std      9.056548  104.741083    0.108951    0.121098  \n",
       "min      4.162750    6.063538    0.058717    0.020501  \n",
       "25%     22.913270  183.231133    0.146201    0.112082  \n",
       "50%     29.796582  248.903023    0.264212    0.221358  \n",
       "75%     34.900392  303.042694    0.325876    0.297361  \n",
       "max     49.217510  358.524384    0.471268    0.482517  "
      ]
     },
     "execution_count": 7,
     "metadata": {},
     "output_type": "execute_result"
    }
   ],
   "source": [
    "df.describe()"
   ]
  },
  {
   "cell_type": "code",
   "execution_count": 8,
   "id": "d7ae17cb-1047-4a1e-a978-bf705e57e688",
   "metadata": {
    "tags": []
   },
   "outputs": [
    {
     "data": {
      "text/plain": [
       "array([[<Axes: title={'center': 'ndvi_l8'}>,\n",
       "        <Axes: title={'center': 'ndvi_s2'}>]], dtype=object)"
      ]
     },
     "execution_count": 8,
     "metadata": {},
     "output_type": "execute_result"
    },
    {
     "data": {
      "image/png": "[encoded data removed]",
      "text/plain": [
       "<Figure size 640x480 with 2 Axes>"
      ]
     },
     "metadata": {},
     "output_type": "display_data"
    }
   ],
   "source": [
    "df[[\"ndvi_l8\", \"ndvi_s2\"]].hist(bins=50, alpha=1, color=\"red\")"
   ]
  },
  {
   "cell_type": "code",
   "execution_count": 9,
   "id": "b95379a1-a55a-4a1a-9ae3-56b77cc6c298",
   "metadata": {
    "tags": []
   },
   "outputs": [
    {
     "data": {
      "text/plain": [
       "<Axes: ylabel='Frequency'>"
      ]
     },
     "execution_count": 9,
     "metadata": {},
     "output_type": "execute_result"
    },
    {
     "data": {
      "image/png": "[encoded data removed]",
      "text/plain": [
       "<Figure size 640x480 with 1 Axes>"
      ]
     },
     "metadata": {},
     "output_type": "display_data"
    }
   ],
   "source": [
    "df[[\"ndvi_l8\", \"ndvi_s2\"]].plot.hist(bins=40, alpha=.5, color=[\"red\", \"green\"])"
   ]
  },
  {
   "cell_type": "markdown",
   "id": "3d125129-498d-4dd5-a523-7bb8bb0aabfe",
   "metadata": {},
   "source": [
    "## Boxplot"
   ]
  },
  {
   "cell_type": "code",
   "execution_count": 10,
   "id": "e43dc945-4d32-4091-91b5-9cb23eb7d24e",
   "metadata": {
    "tags": []
   },
   "outputs": [
    {
     "data": {
      "text/plain": [
       "<Axes: xlabel='cummulative_greenness'>"
      ]
     },
     "execution_count": 10,
     "metadata": {},
     "output_type": "execute_result"
    },
    {
     "data": {
      "image/png": "[encoded data removed]",
      "text/plain": [
       "<Figure size 640x480 with 1 Axes>"
      ]
     },
     "metadata": {},
     "output_type": "display_data"
    }
   ],
   "source": [
    "sns.violinplot(data=df, x=\"cummulative_greenness\")"
   ]
  },
  {
   "cell_type": "code",
   "execution_count": 11,
   "id": "b7aa3fbc-bec7-4baa-8754-0959b00b274b",
   "metadata": {
    "tags": []
   },
   "outputs": [
    {
     "data": {
      "text/plain": [
       "<Axes: ylabel='cummulative_greenness'>"
      ]
     },
     "execution_count": 11,
     "metadata": {},
     "output_type": "execute_result"
    },
    {
     "data": {
      "image/png": "[encoded data removed]",
      "text/plain": [
       "<Figure size 640x480 with 1 Axes>"
      ]
     },
     "metadata": {},
     "output_type": "display_data"
    }
   ],
   "source": [
    "sns.violinplot(data=df, y=\"cummulative_greenness\")"
   ]
  },
  {
   "cell_type": "code",
   "execution_count": 12,
   "id": "65a78165-e36b-4e14-8ff0-d1f3fa77846b",
   "metadata": {},
   "outputs": [
    {
     "data": {
      "text/plain": [
       "<Axes: xlabel='eft', ylabel='cummulative_greenness'>"
      ]
     },
     "execution_count": 12,
     "metadata": {},
     "output_type": "execute_result"
    },
    {
     "data": {
      "image/png": "[encoded data removed]",
      "text/plain": [
       "<Figure size 640x480 with 1 Axes>"
      ]
     },
     "metadata": {},
     "output_type": "display_data"
    }
   ],
   "source": [
    "sns.violinplot(data=df, x=\"eft\", y=\"cummulative_greenness\")"
   ]
  },
  {
   "cell_type": "code",
   "execution_count": null,
   "id": "265e7811-1e25-4f1b-aed0-0c5b58099d2e",
   "metadata": {},
   "outputs": [
    {
     "data": {
      "text/plain": [
       "<Axes: xlabel='eft', ylabel='cummulative_greenness'>"
      ]
     },
     "execution_count": 13,
     "metadata": {},
     "output_type": "execute_result"
    }
   ],
   "source": [
    "plt.figure(figsize=(20,5))\n",
    "sns.violinplot(data=df, x=\"eft\", y=\"cummulative_greenness\", hue=\"USO\")"
   ]
  },
  {
   "cell_type": "code",
   "execution_count": null,
   "id": "91bf01f1-9dfe-4302-b3f1-51184af4c698",
   "metadata": {
    "tags": []
   },
   "outputs": [],
   "source": [
    "plt.figure(figsize=(20,5))\n",
    "sns.violinplot(data=df, x=\"COBERTURA\", y=\"cummulative_greenness\", hue=\"USO\")"
   ]
  },
  {
   "cell_type": "markdown",
   "id": "08180c16-53b7-4510-9a49-440002b9319a",
   "metadata": {},
   "source": [
    "## Scatterplot y correlación"
   ]
  },
  {
   "cell_type": "code",
   "execution_count": null,
   "id": "f31b58ce-73b7-4531-827a-74675a2b983d",
   "metadata": {
    "tags": []
   },
   "outputs": [],
   "source": [
    "sns.jointplot(data=df, x=\"slope\", y=\"ndvi_s2\")"
   ]
  },
  {
   "cell_type": "code",
   "execution_count": null,
   "id": "7cd0911a-f21e-4f7f-b385-853b6429817d",
   "metadata": {},
   "outputs": [],
   "source": [
    "stats.pearsonr(df.slope, df.ndvi_s2)"
   ]
  },
  {
   "cell_type": "code",
   "execution_count": null,
   "id": "d1eea4c3-0634-41e4-b7bd-0437208e86c8",
   "metadata": {
    "tags": []
   },
   "outputs": [],
   "source": [
    "stats.spearmanr(df.slope, df.ndvi_s2)"
   ]
  },
  {
   "cell_type": "code",
   "execution_count": null,
   "id": "9f168c17-f6d6-4790-b850-c8a1aa9a3b51",
   "metadata": {
    "tags": []
   },
   "outputs": [],
   "source": [
    "stats.kendalltau(df.slope, df.ndvi_s2)"
   ]
  }
 ],
 "metadata": {
  "kernelspec": {
   "display_name": "Python 3 (ipykernel)",
   "language": "python",
   "name": "python3"
  },
  "language_info": {
   "codemirror_mode": {
    "name": "ipython",
    "version": 3
   },
   "file_extension": ".py",
   "mimetype": "text/x-python",
   "name": "python",
   "nbconvert_exporter": "python",
   "pygments_lexer": "ipython3",
   "version": "3.10.6"
  }
 },
 "nbformat": 4,
 "nbformat_minor": 5
}
